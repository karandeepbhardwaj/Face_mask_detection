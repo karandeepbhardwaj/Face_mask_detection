{
  "nbformat": 4,
  "nbformat_minor": 0,
  "metadata": {
    "colab": {
      "name": "Face Mask Detection.ipynb",
      "provenance": [],
      "collapsed_sections": [],
      "toc_visible": true
    },
    "kernelspec": {
      "name": "python3",
      "display_name": "Python 3"
    },
    "accelerator": "GPU"
  },
  "cells": [
    {
      "cell_type": "markdown",
      "metadata": {
        "id": "SDzch_JNQ_jM"
      },
      "source": [
        "# **COMP 6721 Applied Artificial Intelligence**\n",
        "# **(Fall 2020)**\n",
        "> Project Assignment Part I"
      ]
    },
    {
      "cell_type": "markdown",
      "metadata": {
        "id": "LINQyQTIROkp"
      },
      "source": [
        "# **AI Face Mask Detector**"
      ]
    },
    {
      "cell_type": "markdown",
      "metadata": {
        "id": "vKgIqt-uQlpN"
      },
      "source": [
        "## **Setup**"
      ]
    },
    {
      "cell_type": "code",
      "metadata": {
        "id": "yyDvEOHEWbs2"
      },
      "source": [
        "# Import required libraries\n",
        "import torch \n",
        "import os\n",
        "from tqdm import tqdm\n",
        "import pandas as pd\n",
        "import matplotlib.pyplot as plt\n",
        "from pathlib import Path\n",
        "import cv2\n",
        "import numpy as np\n",
        "import torch.nn as nn\n",
        "import torch.nn.functional as F\n",
        "from torch.utils.data.dataset import Dataset\n",
        "from torchvision.transforms import Compose, Resize, ToPILImage, ToTensor\n",
        "from torch.utils.data.dataloader import DataLoader\n",
        "from torchvision.utils import make_grid\n",
        "from sklearn.metrics import classification_report\n",
        "import matplotlib.image as mpimg\n",
        "import itertools\n",
        "from sklearn.metrics import confusion_matrix"
      ],
      "execution_count": 1,
      "outputs": []
    },
    {
      "cell_type": "markdown",
      "metadata": {
        "id": "Cfmg8GhoXQn1"
      },
      "source": [
        "**D**ownloading data from Kaggle.com"
      ]
    },
    {
      "cell_type": "code",
      "metadata": {
        "id": "9lXnwIvVWqeV"
      },
      "source": [
        "# Getting data from kaggle.com\n",
        "%%capture\n",
        "# Keys for env - API\n",
        "os.environ['KAGGLE_USERNAME'] = \"karandeepbhardwaj\" # username from the json file\n",
        "os.environ['KAGGLE_KEY'] = \"a188728f8e2873a3cd0394bd2b543ffb\" # key from the json file\n",
        "\n",
        "# Bash commands to download data and unzip in source directory\n",
        "!kaggle datasets download -d andrewmvd/animal-faces\n",
        "!kaggle datasets download -d ashishjangra27/face-mask-12k-images-dataset\n",
        "!unzip face-mask-12k-images-dataset.zip -d data_set\n",
        "!unzip animal-faces.zip -d my_not_human_data\n",
        "!rm -r sample_data\n",
        "!rm animal-faces.zip\n",
        "!rm face-mask-12k-images-dataset.zip\n",
        "\n",
        "!mkdir \"./myData\"\n",
        "!mkdir \"./myData/Test\"\n",
        "!mkdir \"./myData/Train\"\n",
        "!mkdir \"./myData/Test/Mask\"\n",
        "!mkdir \"./myData/Test/NoMask\"\n",
        "!mkdir \"./myData/Test/NotHuman\"\n",
        "\n",
        "!mv \"./data_set/Face Mask Dataset/Test/WithMask\" \"./myData/Test/Mask\"\n",
        "!mv \"./data_set/Face Mask Dataset/Test/WithoutMask\" \"./myData/Test/NoMask\"\n",
        "!mv \"./my_not_human_data/afhq/val/cat\" \"./myData/Test/NotHuman\"\n",
        "\n",
        "!mkdir \"./myData/Train/Mask\"\n",
        "!mkdir \"./myData/Train/NoMask\"\n",
        "!mkdir \"./myData/Train/NotHuman\"\n",
        "\n",
        "!mv \"./data_set/Face Mask Dataset/Train/WithMask\" \"./myData/Train/Mask\"\n",
        "!mv \"./data_set/Face Mask Dataset/Train/WithoutMask\" \"./myData/Train/NoMask\"\n",
        "!mv \"./my_not_human_data/afhq/train/cat\" \"./myData/Train/NotHuman\"\n",
        "\n",
        "!rm -r data_set\n",
        "!rm -r my_not_human_data/"
      ],
      "execution_count": 2,
      "outputs": []
    },
    {
      "cell_type": "markdown",
      "metadata": {
        "id": "qS0_HU8MXb7K"
      },
      "source": [
        "Paths to data folders created in source directory."
      ]
    },
    {
      "cell_type": "code",
      "metadata": {
        "id": "u5-_QSH2XJR4"
      },
      "source": [
        "#Data Loading\n",
        "classes = ['Masked', 'NotMasked', 'NotHuman']\n",
        "\n",
        "maskPath = './myData/Train/Mask/'\n",
        "nonMaskPath = './myData/Train/NoMask/'\n",
        "nonHumanPath ='./myData/Train/NotHuman/'\n",
        "\n",
        "testMask = './myData/Test/Mask/'\n",
        "testNonMask = './myData/Test/NoMask/'\n",
        "testNotHuman = './myData/Test/NotHuman/'\n",
        "\n",
        "directories = {0:maskPath, 1:nonMaskPath, 2:nonHumanPath}\n",
        "testDirectories = {0:testMask, 1:testNonMask , 2:testNotHuman}"
      ],
      "execution_count": 3,
      "outputs": []
    },
    {
      "cell_type": "markdown",
      "metadata": {
        "id": "tncfQhdMXum2"
      },
      "source": [
        "**Data Extraction:** \n",
        "*   Extracting data from above defined paths.\n",
        "*   Resizing Images.\n",
        "*   Reading images from disk.\n",
        "*   Writing to data as np array form to trainingData.\n"
      ]
    },
    {
      "cell_type": "code",
      "metadata": {
        "id": "VaBbhaCkXO4X"
      },
      "source": [
        "class PrepProcessingModel():\n",
        "    IMAGESIZE = 100\n",
        "    trainingData = []\n",
        "    def makeDataSet(self, directoryType):\n",
        "        for label, dataDirectory in directoryType.items():\n",
        "            print('\\n\\n Currently reading Label: ',label,'\\n')\n",
        "            for folder in tqdm(os.listdir(dataDirectory)):\n",
        "                folderPath = os.path.join(dataDirectory, folder);\n",
        "                for imgpath in os.listdir(folderPath):\n",
        "                    imagePath = os.path.join(folderPath, imgpath);\n",
        "                    img = cv2.imread(imagePath);\n",
        "                    img = cv2.resize(img, (self.IMAGESIZE,self.IMAGESIZE));\n",
        "                    self.trainingData.append([np.array(img), label]);\n",
        "        np.random.shuffle(self.trainingData)"
      ],
      "execution_count": 4,
      "outputs": []
    },
    {
      "cell_type": "markdown",
      "metadata": {
        "id": "uGlIKXYxYfg0"
      },
      "source": [
        "Running PreProcessing to write image marked data to trainingData."
      ]
    },
    {
      "cell_type": "code",
      "metadata": {
        "colab": {
          "base_uri": "https://localhost:8080/"
        },
        "id": "njrXETnxZjfb",
        "outputId": "d63ee28f-a5e7-4ff1-e498-5c9a31808f0a"
      },
      "source": [
        "PrepProcessingModel = PrepProcessingModel()\n",
        "PrepProcessingModel.makeDataSet(directories)\n",
        "print(\"Labeling from Train Data:\")\n",
        "trainingData = PrepProcessingModel.trainingData"
      ],
      "execution_count": 5,
      "outputs": [
        {
          "output_type": "stream",
          "text": [
            "\r  0%|          | 0/1 [00:00<?, ?it/s]"
          ],
          "name": "stderr"
        },
        {
          "output_type": "stream",
          "text": [
            "\n",
            "\n",
            " Currently reading Label:  0 \n",
            "\n"
          ],
          "name": "stdout"
        },
        {
          "output_type": "stream",
          "text": [
            "100%|██████████| 1/1 [00:05<00:00,  5.50s/it]\n",
            "  0%|          | 0/1 [00:00<?, ?it/s]"
          ],
          "name": "stderr"
        },
        {
          "output_type": "stream",
          "text": [
            "\n",
            "\n",
            " Currently reading Label:  1 \n",
            "\n"
          ],
          "name": "stdout"
        },
        {
          "output_type": "stream",
          "text": [
            "100%|██████████| 1/1 [00:02<00:00,  2.25s/it]\n",
            "  0%|          | 0/1 [00:00<?, ?it/s]"
          ],
          "name": "stderr"
        },
        {
          "output_type": "stream",
          "text": [
            "\n",
            "\n",
            " Currently reading Label:  2 \n",
            "\n"
          ],
          "name": "stdout"
        },
        {
          "output_type": "stream",
          "text": [
            "100%|██████████| 1/1 [00:16<00:00, 16.97s/it]\n"
          ],
          "name": "stderr"
        }
      ]
    },
    {
      "cell_type": "markdown",
      "metadata": {
        "id": "pBVCQNjtaBTV"
      },
      "source": [
        "# Creating test data set"
      ]
    },
    {
      "cell_type": "code",
      "metadata": {
        "id": "p6LFC_sEYefn",
        "colab": {
          "base_uri": "https://localhost:8080/"
        },
        "outputId": "39ee5fe0-3e2c-432a-8686-134aeff84e08"
      },
      "source": [
        "PrepProcessingModel.makeDataSet(testDirectories)\n",
        "print(\"Labeling from Test Data:\")\n",
        "testData = PrepProcessingModel.trainingData"
      ],
      "execution_count": 6,
      "outputs": [
        {
          "output_type": "stream",
          "text": [
            "\r  0%|          | 0/1 [00:00<?, ?it/s]"
          ],
          "name": "stderr"
        },
        {
          "output_type": "stream",
          "text": [
            "\n",
            "\n",
            " Currently reading Label:  0 \n",
            "\n"
          ],
          "name": "stdout"
        },
        {
          "output_type": "stream",
          "text": [
            "100%|██████████| 1/1 [00:00<00:00,  1.83it/s]\n",
            "  0%|          | 0/1 [00:00<?, ?it/s]"
          ],
          "name": "stderr"
        },
        {
          "output_type": "stream",
          "text": [
            "\n",
            "\n",
            " Currently reading Label:  1 \n",
            "\n"
          ],
          "name": "stdout"
        },
        {
          "output_type": "stream",
          "text": [
            "100%|██████████| 1/1 [00:00<00:00,  4.23it/s]\n",
            "  0%|          | 0/1 [00:00<?, ?it/s]"
          ],
          "name": "stderr"
        },
        {
          "output_type": "stream",
          "text": [
            "\n",
            "\n",
            " Currently reading Label:  2 \n",
            "\n"
          ],
          "name": "stdout"
        },
        {
          "output_type": "stream",
          "text": [
            "100%|██████████| 1/1 [00:01<00:00,  1.68s/it]\n"
          ],
          "name": "stderr"
        }
      ]
    },
    {
      "cell_type": "code",
      "metadata": {
        "id": "-miwZWY6pceL"
      },
      "source": [
        "_, test_data = torch.utils.data.random_split(testData, [(len(testData) - 3000), 3000])"
      ],
      "execution_count": 7,
      "outputs": []
    },
    {
      "cell_type": "markdown",
      "metadata": {
        "id": "03M5Qj1RZSup"
      },
      "source": [
        "* **Creating Pytorch Dataset**"
      ]
    },
    {
      "cell_type": "code",
      "metadata": {
        "id": "8hSwiCq9ZTEh"
      },
      "source": [
        "# Creating pytorch Dataset by converting training data set from preprocessing to tensor data type.\n",
        "class BuildDataSet(Dataset):\n",
        "        def __init__(self, train_data):\n",
        "            self.train_data = train_data\n",
        "            self.transformations = Compose([\n",
        "                ToTensor(),\n",
        "            ])\n",
        "        \n",
        "        def __getitem__(self, key):\n",
        "            if isinstance(key, slice):\n",
        "                raise NotImplementedError('slicing is not supported')                    \n",
        "            return [\n",
        "                self.transformations(self.train_data[key][0]), torch.tensor(self.train_data[key][1])\n",
        "            ]\n",
        "        \n",
        "        def __len__(self):\n",
        "            return len(self.train_data)"
      ],
      "execution_count": 12,
      "outputs": []
    },
    {
      "cell_type": "markdown",
      "metadata": {
        "id": "BZD1YblKZcvU"
      },
      "source": [
        "\n",
        "> * Creating Training Data Loader\n",
        "> * Creating validation Data Loader"
      ]
    },
    {
      "cell_type": "code",
      "metadata": {
        "id": "I9wg-chAZdEv"
      },
      "source": [
        "myDataset = BuildDataSet(trainingData)\n",
        "training_data, validation_data = torch.utils.data.random_split(myDataset, [(len(myDataset) - 3000), 3000])\n",
        "batch_size = 32\n",
        "train_dl = DataLoader(training_data, batch_size * 2, shuffle=True)\n",
        "val_dl = DataLoader(validation_data, batch_size * 2)"
      ],
      "execution_count": 13,
      "outputs": []
    },
    {
      "cell_type": "code",
      "metadata": {
        "id": "ykV6nbcdvR2A"
      },
      "source": [
        "myTestDataSet = BuildDataSet(trainingData)"
      ],
      "execution_count": 14,
      "outputs": []
    },
    {
      "cell_type": "markdown",
      "metadata": {
        "id": "5_9AltNFcAiH"
      },
      "source": [
        "# **Accuracy**"
      ]
    },
    {
      "cell_type": "code",
      "metadata": {
        "id": "dmJwQGXNcAL4"
      },
      "source": [
        "# Calculating accuracy from dataset\n",
        "def accuracy(outputs, labels):\n",
        "    _, preds = torch.max(outputs, dim=1)\n",
        "    true_positives_negatives = torch.sum(preds == labels).item()\n",
        "    total_predictions = len(preds)\n",
        "    result = true_positives_negatives/total_predictions\n",
        "    accuracy = torch.tensor(result)\n",
        "    return accuracy"
      ],
      "execution_count": 16,
      "outputs": []
    },
    {
      "cell_type": "markdown",
      "metadata": {
        "id": "JDn_mjbecP3G"
      },
      "source": [
        "# **CNN** Architecture"
      ]
    },
    {
      "cell_type": "code",
      "metadata": {
        "id": "6QEAqQNncZhx"
      },
      "source": [
        "class ImageClassificationBase(nn.Module):\n",
        "\n",
        "    def training_step(self, batch):\n",
        "        images, labels = batch \n",
        "        #Calculating Loss and Generating Predictions\n",
        "        return F.cross_entropy(self(images), labels.long())\n",
        "    \n",
        "    def validation_step(self, batch):\n",
        "        images, labels = batch\n",
        "        #Calculating Loss and Generating Predictions\n",
        "        return {'val_loss': F.cross_entropy(self(images), labels.long()).detach(),\n",
        "                 'val_acc': accuracy(self(images), labels)}\n",
        "        \n",
        "    def validation_epoch_end(self, outputs):\n",
        "\n",
        "        batchLosses = []\n",
        "        batchAccuracies = []\n",
        "\n",
        "        for x in outputs:\n",
        "            batchLosses.append(x['val_loss'])\n",
        "            batchAccuracies.append(x['val_acc'])\n",
        "\n",
        "        epochLosses = torch.stack(batchLosses).mean()   # Combine losses\n",
        "        epochAccuracies = torch.stack(batchAccuracies).mean()      # Combine accuracies\n",
        "\n",
        "        return {'val_loss': epochLosses.item(), 'val_acc': epochAccuracies.item()}\n",
        "    \n",
        "    def epoch_end(self, epoch, result):\n",
        "        print(\"\\n\\nEpoch: [{}]\\n\\nTraining Data Loss: {:.4f}\\nValidation Data Loss: {:.4f}\\nValidation data Accuracy: {:.4f}\".format(\n",
        "            epoch, result['train_loss'], result['val_loss'], result['val_acc']))"
      ],
      "execution_count": 17,
      "outputs": []
    },
    {
      "cell_type": "markdown",
      "metadata": {
        "id": "O_BfKQdVcml5"
      },
      "source": [
        "# **Convolution Neural Network**\n",
        "\n",
        "\n",
        "*   Feature Learning\n",
        "*   Classification\n",
        "\n"
      ]
    },
    {
      "cell_type": "code",
      "metadata": {
        "id": "qJtmf9tncm6z"
      },
      "source": [
        "class CNNModel(ImageClassificationBase):\n",
        "    def __init__(self):\n",
        "        super().__init__()\n",
        "        self.network = nn.Sequential(\n",
        "            \n",
        "            #First convolution layer\n",
        "            nn.Conv2d(3, 100, kernel_size=3, padding=1),\n",
        "            nn.ReLU(),\n",
        "\n",
        "            #Second convolution layer\n",
        "            nn.Conv2d(100, 128, kernel_size=3, stride=1, padding=1),\n",
        "            nn.ReLU(),\n",
        "            \n",
        "            #First pooling layer\n",
        "            nn.MaxPool2d(2, 2), # output: 128 x 8 x 8\n",
        "            \n",
        "            #Third convolution layer\n",
        "            nn.Conv2d(128, 256, kernel_size=3, stride=1, padding=1),\n",
        "            nn.ReLU(),\n",
        "            \n",
        "            #Fourth convolution layer\n",
        "            # nn.Conv2d(256, 256, kernel_size=3, stride=2, padding=1),\n",
        "            # nn.ReLU(),\n",
        "\n",
        "            #Second pooling layer\n",
        "            nn.MaxPool2d(2, 2), # output: 256 x 4 x 4\n",
        "            \n",
        "            #Flattening and rectification\n",
        "            nn.Flatten(), \n",
        "            nn.Linear(160000, 512),\n",
        "            nn.ReLU(),\n",
        "            nn.Linear(512, 256),\n",
        "            nn.ReLU(),\n",
        "            nn.Linear(256, 3))\n",
        "        \n",
        "    def forward(self, xb):\n",
        "      return self.network(xb)"
      ],
      "execution_count": 18,
      "outputs": []
    },
    {
      "cell_type": "markdown",
      "metadata": {
        "id": "nFdMd5yefXMl"
      },
      "source": [
        "**Checking the availability of GPU**\n",
        "> If not present then use CPU"
      ]
    },
    {
      "cell_type": "code",
      "metadata": {
        "id": "QWKF3WJyfW5m"
      },
      "source": [
        "device =  torch.device('cuda') if torch.cuda.is_available() else torch.device('cpu')"
      ],
      "execution_count": 19,
      "outputs": []
    },
    {
      "cell_type": "markdown",
      "metadata": {
        "id": "rOqd6BnFnzog"
      },
      "source": [
        "> Move the tensor to chosen device for processing. (CPU or GPU)"
      ]
    },
    {
      "cell_type": "code",
      "metadata": {
        "id": "gZgVnP4vn2mQ"
      },
      "source": [
        "def toDevice(data, device):\n",
        "    if isinstance(data, (list, tuple)):\n",
        "        myList = []\n",
        "        for x in data:\n",
        "            myList.append(toDevice(x, device))\n",
        "        return myList\n",
        "    return data.to(device, non_blocking=True)"
      ],
      "execution_count": 20,
      "outputs": []
    },
    {
      "cell_type": "markdown",
      "metadata": {
        "id": "f8GfRRRavzUu"
      },
      "source": [
        "# Overriding Dataloader methods\n",
        "* Move data to device\n",
        "* Yield a batch from device afterwards\n",
        "* Get number of batches"
      ]
    },
    {
      "cell_type": "code",
      "metadata": {
        "id": "j65OyIBavzxO"
      },
      "source": [
        "class DeviceDataLoader():\n",
        "    def __init__(self, dl, device):\n",
        "        self.dl = dl\n",
        "        self.device = device\n",
        "        \n",
        "    def __iter__(self):\n",
        "        for b in self.dl: \n",
        "            yield toDevice(b, self.device)\n",
        "\n",
        "    def __len__(self):\n",
        "        return len(self.dl)"
      ],
      "execution_count": 21,
      "outputs": []
    },
    {
      "cell_type": "markdown",
      "metadata": {
        "id": "d1oIl1GAwJVS"
      },
      "source": [
        "* Loading data to device"
      ]
    },
    {
      "cell_type": "code",
      "metadata": {
        "id": "1YUAkEYqwJpH"
      },
      "source": [
        "train_dl = DeviceDataLoader(train_dl, device)\n",
        "val_dl = DeviceDataLoader(val_dl, device)"
      ],
      "execution_count": 22,
      "outputs": []
    },
    {
      "cell_type": "markdown",
      "metadata": {
        "id": "gj3rtP84wKK_"
      },
      "source": [
        "# **Training**"
      ]
    },
    {
      "cell_type": "code",
      "metadata": {
        "id": "s6F6EYL7wKeB"
      },
      "source": [
        "@torch.no_grad()\n",
        "def evaluate(model, val_loader):\n",
        "    model.eval()\n",
        "    outputs = []\n",
        "    for batch in val_loader:\n",
        "        outputs.append(model.validation_step(batch))\n",
        "    return model.validation_epoch_end(outputs)"
      ],
      "execution_count": 23,
      "outputs": []
    },
    {
      "cell_type": "markdown",
      "metadata": {
        "id": "jGgEO8lCwNwp"
      },
      "source": [
        "> Train and Validate data from datasets"
      ]
    },
    {
      "cell_type": "code",
      "metadata": {
        "id": "5zxfQtMgwOGk"
      },
      "source": [
        "def fit(epochs, lr, model, train_loader, val_loader, opt_func=torch.optim.SGD):\n",
        "    history = []\n",
        "    optimizer = torch.optim.SGD(model.parameters(), lr=0.001, momentum=0.9)\n",
        "    for epoch in range(epochs):\n",
        "        # Training Phase \n",
        "        model.train()\n",
        "        train_losses = []\n",
        "        for batch in train_loader:\n",
        "            loss = model.training_step(batch)\n",
        "            train_losses.append(loss)\n",
        "            loss.backward()\n",
        "            optimizer.step()\n",
        "            optimizer.zero_grad()\n",
        "        # Validation phase\n",
        "        result = evaluate(model, val_loader)\n",
        "        result['train_loss'] = torch.stack(train_losses).mean().item()\n",
        "        model.epoch_end(epoch, result)\n",
        "        history.append(result)\n",
        "    return history"
      ],
      "execution_count": 24,
      "outputs": []
    },
    {
      "cell_type": "markdown",
      "metadata": {
        "id": "zff_RE1JwUUc"
      },
      "source": [
        "# Model (on GPU)"
      ]
    },
    {
      "cell_type": "code",
      "metadata": {
        "id": "Yn9kWS9BwUqK",
        "colab": {
          "base_uri": "https://localhost:8080/"
        },
        "outputId": "a1781d9b-3757-4778-d104-d362502012e6"
      },
      "source": [
        "model = CNNModel()\n",
        "toDevice(model, device);\n",
        "model.eval();\n",
        "\n",
        "history = [evaluate(model, val_dl)]\n",
        "history\n",
        "\n",
        "history = fit(15, 1e-3, model, train_dl, val_dl)"
      ],
      "execution_count": 25,
      "outputs": [
        {
          "output_type": "stream",
          "text": [
            "epoch:  0\n",
            "Epoch: [0]\n",
            "Training Data Loss: 0.9496\n",
            "Validation Data Loss: 0.5733\n",
            "Validation data Accuracy: 0.7657\n",
            "epoch:  1\n",
            "Epoch: [1]\n",
            "Training Data Loss: 0.3975\n",
            "Validation Data Loss: 0.2608\n",
            "Validation data Accuracy: 0.9093\n",
            "epoch:  2\n",
            "Epoch: [2]\n",
            "Training Data Loss: 0.2258\n",
            "Validation Data Loss: 0.1906\n",
            "Validation data Accuracy: 0.9330\n",
            "epoch:  3\n",
            "Epoch: [3]\n",
            "Training Data Loss: 0.1781\n",
            "Validation Data Loss: 0.1591\n",
            "Validation data Accuracy: 0.9464\n",
            "epoch:  4\n",
            "Epoch: [4]\n",
            "Training Data Loss: 0.1518\n",
            "Validation Data Loss: 0.1475\n",
            "Validation data Accuracy: 0.9481\n",
            "epoch:  5\n",
            "Epoch: [5]\n",
            "Training Data Loss: 0.1346\n",
            "Validation Data Loss: 0.1323\n",
            "Validation data Accuracy: 0.9503\n",
            "epoch:  6\n",
            "Epoch: [6]\n",
            "Training Data Loss: 0.1124\n",
            "Validation Data Loss: 0.1054\n",
            "Validation data Accuracy: 0.9611\n",
            "epoch:  7\n",
            "Epoch: [7]\n",
            "Training Data Loss: 0.0936\n",
            "Validation Data Loss: 0.1149\n",
            "Validation data Accuracy: 0.9561\n",
            "epoch:  8\n",
            "Epoch: [8]\n",
            "Training Data Loss: 0.0869\n",
            "Validation Data Loss: 0.1082\n",
            "Validation data Accuracy: 0.9583\n",
            "epoch:  9\n",
            "Epoch: [9]\n",
            "Training Data Loss: 0.0737\n",
            "Validation Data Loss: 0.0791\n",
            "Validation data Accuracy: 0.9714\n",
            "epoch:  10\n",
            "Epoch: [10]\n",
            "Training Data Loss: 0.0667\n",
            "Validation Data Loss: 0.0683\n",
            "Validation data Accuracy: 0.9733\n",
            "epoch:  11\n",
            "Epoch: [11]\n",
            "Training Data Loss: 0.0613\n",
            "Validation Data Loss: 0.0674\n",
            "Validation data Accuracy: 0.9746\n",
            "epoch:  12\n",
            "Epoch: [12]\n",
            "Training Data Loss: 0.0523\n",
            "Validation Data Loss: 0.0933\n",
            "Validation data Accuracy: 0.9690\n",
            "epoch:  13\n",
            "Epoch: [13]\n",
            "Training Data Loss: 0.0510\n",
            "Validation Data Loss: 0.0629\n",
            "Validation data Accuracy: 0.9767\n",
            "epoch:  14\n",
            "Epoch: [14]\n",
            "Training Data Loss: 0.0461\n",
            "Validation Data Loss: 0.0626\n",
            "Validation data Accuracy: 0.9793\n"
          ],
          "name": "stdout"
        }
      ]
    },
    {
      "cell_type": "markdown",
      "metadata": {
        "id": "JPXf6hl9wl6h"
      },
      "source": [
        "# **Plot the losses and accuracies**"
      ]
    },
    {
      "cell_type": "code",
      "metadata": {
        "id": "a03SjQ4gwmVo"
      },
      "source": [
        "def plot_losses(history):\n",
        "    losses = [x['val_loss'] for x in history]\n",
        "    plt.plot(losses, '-x')\n",
        "    plt.xlabel('epoch')\n",
        "    plt.ylabel('loss')\n",
        "    plt.title('Loss vs. No. of epochs');\n",
        "    \n",
        "def plot_accuracies(history):\n",
        "    accuracies = [x['val_acc'] for x in history]\n",
        "    plt.plot(accuracies, '-x')\n",
        "    plt.xlabel('epoch')\n",
        "    plt.ylabel('accuracy')\n",
        "    plt.title('Accuracy vs. No. of epochs');\n",
        "\n",
        "#saving to disk\n",
        "torch.save(model.state_dict(), './MaskDetection.pth')"
      ],
      "execution_count": 26,
      "outputs": []
    },
    {
      "cell_type": "code",
      "metadata": {
        "id": "Pc7xCC6Hws0e",
        "colab": {
          "base_uri": "https://localhost:8080/",
          "height": 295
        },
        "outputId": "390aa3a1-9e48-4bc2-a8db-9b4a06604a79"
      },
      "source": [
        "plot_losses(history)"
      ],
      "execution_count": 27,
      "outputs": [
        {
          "output_type": "display_data",
          "data": {
            "image/png": "[encoded data removed]",
            "text/plain": [
              "<Figure size 432x288 with 1 Axes>"
            ]
          },
          "metadata": {
            "tags": [],
            "needs_background": "light"
          }
        }
      ]
    },
    {
      "cell_type": "code",
      "metadata": {
        "id": "okWccQwxwvQx",
        "colab": {
          "base_uri": "https://localhost:8080/",
          "height": 295
        },
        "outputId": "3db9fc48-9d45-43a5-c9e3-5bbca0f4c3eb"
      },
      "source": [
        "plot_accuracies(history)"
      ],
      "execution_count": 28,
      "outputs": [
        {
          "output_type": "display_data",
          "data": {
            "image/png": "[encoded data removed]",
            "text/plain": [
              "<Figure size 432x288 with 1 Axes>"
            ]
          },
          "metadata": {
            "tags": [],
            "needs_background": "light"
          }
        }
      ]
    },
    {
      "cell_type": "markdown",
      "metadata": {
        "id": "BMknwj0yw0qS"
      },
      "source": [
        "> # **Testing images after modeling.**"
      ]
    },
    {
      "cell_type": "code",
      "metadata": {
        "id": "ODPBCXi-w1EG"
      },
      "source": [
        "# Testing\n",
        "def singleImage(path, label= None, show= False):\n",
        "    img = cv2.imread(path)\n",
        "    assert img is not None,\"Image wasn't read properly\"\n",
        "    img = cv2.resize(img, (100, 100))\n",
        "    img = torch.from_numpy(img)\n",
        "    img = img.permute((2, 0,1)) # model expects image to be of shape [3, 100, 100]\n",
        "    img = img.unsqueeze(dim=0).float() # convert single image to batch [1, 3, 100, 100]\n",
        "    img = img.to('cuda') # Using the same device as the model\n",
        "    pred = model(img)\n",
        "    _, preds = torch.max(pred, dim=1)\n",
        "    print(classes[preds.item()])\n",
        "    \n",
        "    if show:\n",
        "        plt.imshow(mpimg.imread(path))\n",
        "        print(\"the image is :\" + classes[preds.item()])"
      ],
      "execution_count": 29,
      "outputs": []
    },
    {
      "cell_type": "code",
      "metadata": {
        "id": "NNALu9s6w2cF"
      },
      "source": [
        "def valImage(key, typeOfData):\n",
        "    img = typeOfData[key][0]\n",
        "    pred = model(img.unsqueeze(dim=0).to(device))\n",
        "    _, preds = torch.max(pred, dim=1)\n",
        "    return (typeOfData[key][1],preds.item())"
      ],
      "execution_count": 36,
      "outputs": []
    },
    {
      "cell_type": "markdown",
      "metadata": {
        "id": "2V1W1kJEw3CJ"
      },
      "source": [
        "# **Display Result**"
      ]
    },
    {
      "cell_type": "code",
      "metadata": {
        "id": "_81ZlcRRqbGC"
      },
      "source": [
        "y_pred = []\n",
        "x_act = []\n",
        "for x in range(1000):\n",
        "  actual, predicted = valImage(x, myTestDataSet)\n",
        "  y_pred.append(predicted)\n",
        "  x_act.append(actual)\n",
        "y_pred = np.asarray(y_pred)\n",
        "x_act = np.asarray(x_act)"
      ],
      "execution_count": 38,
      "outputs": []
    },
    {
      "cell_type": "code",
      "metadata": {
        "id": "SKaS2QGawH33"
      },
      "source": [
        "def plot_confusion_matrix(cm, classes, normalize=False, title='Confusion matrix', cmap=plt.cm.Blues):\n",
        "    if normalize:\n",
        "        cm = cm.astype('float') / cm.sum(axis=1)[:, np.newaxis]\n",
        "        print(\"Normalized confusion matrix\")\n",
        "    else:\n",
        "        print('Confusion matrix, without normalization')\n",
        "\n",
        "    print(cm)\n",
        "    plt.imshow(cm, interpolation='nearest', cmap=cmap)\n",
        "    plt.title(title)\n",
        "    plt.colorbar()\n",
        "    tick_marks = np.arange(len(classes))\n",
        "    plt.xticks(tick_marks, classes, rotation=45)\n",
        "    plt.yticks(tick_marks, classes)\n",
        "\n",
        "    fmt = '.2f' if normalize else 'd'\n",
        "    thresh = cm.max() / 2.\n",
        "    for i, j in itertools.product(range(cm.shape[0]), range(cm.shape[1])):\n",
        "        plt.text(j, i, format(cm[i, j], fmt), horizontalalignment=\"center\", color=\"white\" if cm[i, j] > thresh else \"black\")\n",
        "\n",
        "    plt.tight_layout()\n",
        "    plt.ylabel('True label')\n",
        "    plt.xlabel('Predicted label')"
      ],
      "execution_count": 39,
      "outputs": []
    },
    {
      "cell_type": "code",
      "metadata": {
        "colab": {
          "base_uri": "https://localhost:8080/",
          "height": 432
        },
        "id": "JIgDSefvyN7Z",
        "outputId": "4c25b9e0-f809-406a-87de-b8079b0c739f"
      },
      "source": [
        "cm = confusion_matrix(y_pred, x_act)\n",
        "plt.figure(figsize=(5,5))\n",
        "plot_confusion_matrix(cm, classes);"
      ],
      "execution_count": 40,
      "outputs": [
        {
          "output_type": "stream",
          "text": [
            "Confusion matrix, without normalization\n",
            "[[317   3   5]\n",
            " [  6 330   0]\n",
            " [  0   0 339]]\n"
          ],
          "name": "stdout"
        },
        {
          "output_type": "display_data",
          "data": {
            "image/png": "[encoded data removed]",
            "text/plain": [
              "<Figure size 360x360 with 2 Axes>"
            ]
          },
          "metadata": {
            "tags": [],
            "needs_background": "light"
          }
        }
      ]
    },
    {
      "cell_type": "code",
      "metadata": {
        "colab": {
          "base_uri": "https://localhost:8080/"
        },
        "id": "v1NpDlrnxcyr",
        "outputId": "f8996106-2189-4002-87d8-07048198e51d"
      },
      "source": [
        "all_scores = classification_report(y_pred, x_act)\n",
        "print(all_scores)"
      ],
      "execution_count": 41,
      "outputs": [
        {
          "output_type": "stream",
          "text": [
            "              precision    recall  f1-score   support\n",
            "\n",
            "           0       0.98      0.98      0.98       325\n",
            "           1       0.99      0.98      0.99       336\n",
            "           2       0.99      1.00      0.99       339\n",
            "\n",
            "    accuracy                           0.99      1000\n",
            "   macro avg       0.99      0.99      0.99      1000\n",
            "weighted avg       0.99      0.99      0.99      1000\n",
            "\n"
          ],
          "name": "stdout"
        }
      ]
    },
    {
      "cell_type": "code",
      "metadata": {
        "id": "LPYHV25BxkXs"
      },
      "source": [
        ""
      ],
      "execution_count": 35,
      "outputs": []
    }
  ]
}